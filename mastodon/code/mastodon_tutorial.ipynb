{
 "cells": [
  {
   "cell_type": "markdown",
   "id": "6ebb2a67",
   "metadata": {},
   "source": [
    "## Task 2: Mastodon API"
   ]
  },
  {
   "cell_type": "markdown",
   "id": "1504cfdb",
   "metadata": {},
   "source": [
    "### Step 1: Create a Mastodon Application\n",
    "1. Log-In to your Mastodon Server (eg. https://sciences.social/)\n",
    "2. Under Preferences, click on Development\n",
    "3. Click on New Application\n",
    "4. Select functionalities i.e. read and write access the new application needs. For the purposes of this tutorial we will only be using 'read' functions.\n",
    "5. Copy the 'Access Token' and store it securely"
   ]
  },
  {
   "cell_type": "markdown",
   "id": "a88e0372",
   "metadata": {},
   "source": [
    "### Required packages\n",
    "pip3 install httpx"
   ]
  },
  {
   "cell_type": "code",
   "execution_count": 1,
   "id": "544a151d",
   "metadata": {},
   "outputs": [],
   "source": [
    "import httpx\n",
    "import getpass\n",
    "from IPython.core import display\n",
    "from dateutil import parser\n",
    "from datetime import datetime, timedelta\n",
    "# from mastodon import Mastodon\n",
    "# ks3yuAI7JcF3VhhA8euLqN1MHvMrpyzd4l2HOs1udac"
   ]
  },
  {
   "cell_type": "code",
   "execution_count": 2,
   "id": "b357f07e",
   "metadata": {},
   "outputs": [
    {
     "name": "stdout",
     "output_type": "stream",
     "text": [
      "········\n"
     ]
    }
   ],
   "source": [
    "token=getpass.getpass()"
   ]
  },
  {
   "cell_type": "code",
   "execution_count": 3,
   "id": "75097eef",
   "metadata": {},
   "outputs": [],
   "source": [
    "client = httpx.Client(headers=dict(Authorization=f\"Bearer {token}\"))"
   ]
  },
  {
   "cell_type": "code",
   "execution_count": 4,
   "id": "347d14c9",
   "metadata": {},
   "outputs": [],
   "source": [
    "res = client.get(\"https://sciences.social/api/v1/accounts/verify_credentials\")"
   ]
  },
  {
   "cell_type": "code",
   "execution_count": 5,
   "id": "65530658",
   "metadata": {},
   "outputs": [
    {
     "data": {
      "text/plain": [
       "('109334421628967389', 'anmolpanda')"
      ]
     },
     "execution_count": 5,
     "metadata": {},
     "output_type": "execute_result"
    }
   ],
   "source": [
    "res.raise_for_status()\n",
    "result = res.json()\n",
    "result[\"id\"], result[\"username\"]"
   ]
  },
  {
   "cell_type": "code",
   "execution_count": 6,
   "id": "4dd231d3",
   "metadata": {},
   "outputs": [],
   "source": [
    "usernames = [\n",
    "    'https://mastodon.social/@RepShontelBrown'\n",
    "]"
   ]
  },
  {
   "cell_type": "code",
   "execution_count": null,
   "id": "9c176abb",
   "metadata": {},
   "outputs": [],
   "source": []
  },
  {
   "cell_type": "code",
   "execution_count": null,
   "id": "184bd68a",
   "metadata": {},
   "outputs": [],
   "source": [
    "def parse(result):\n",
    "    result.raise_for_status()\n",
    "    return result.json()\n",
    "\n",
    "def get_toots_of_user(username):\n",
    "    account = parse(client.get(\"https://sciences.social/api/v1/accounts/lookup?acct={}\".format(username)))\n",
    "    id_ = account['id']\n",
    "    result = client.get(\"https://sciences.social/api/v1/accounts/{}/statuses?limit=40\".format(id_))\n",
    "    all_statuses = []\n",
    "    statuses = parse(result)\n",
    "    all_statuses.extend(statuses)\n",
    "    while len(statuses) > 0:\n",
    "        print(len(all_statuses))\n",
    "        result = client.get(\"https://sciences.social/api/v1/accounts/{}/statuses?limit=40&max_id={}\".format(id_, all_statuses[-1]['id']))\n",
    "        statuses = parse(result)\n",
    "        all_statuses.extend(statuses)\n",
    "    return all_statuses\n",
    "\n",
    "def get_toots_of_user_between_dates(username):\n",
    "    \n",
    "    pass\n",
    "\n",
    "# https://shkspr.mobi/blog/2022/11/building-an-on-this-day-service-for-mastodon/\n",
    "\n",
    "def get_followers_of_user(server, username):\n",
    "    account = parse(client.get(\"https://{}/api/v1/accounts/lookup?acct={}\".format(server, username)))\n",
    "    id_ = account['id']\n",
    "    results = client.get(\"https://{}/api/v1/accounts/{}/followers?limit=80\".format(server, id_))\n",
    "    followers = parse(results)\n",
    "    i=1\n",
    "    print('Request: {}, Number of followers: {}'.format(i, len(followers)))\n",
    "    while True:\n",
    "        link = results.headers['link']\n",
    "        if not 'next' in link:\n",
    "            break\n",
    "        next_url = link.split('<')[1].split('>')[0]\n",
    "        results = client.get(next_url)\n",
    "        followers.extend(parse(results))\n",
    "        i+=1\n",
    "        print('Request: {}, Number of followers: {}'.format(i, len(followers)))\n",
    "    return followers\n",
    "        \n",
    "def get_accounts_followed_by_user(server, username):\n",
    "    account = parse(client.get(\"https://{}/api/v1/accounts/lookup?acct={}\".format(server, username)))\n",
    "    id_ = account['id']\n",
    "    results = client.get(\"https://{}/api/v1/accounts/{}/following?limit=80\".format(server, id_))\n",
    "    following = parse(results)\n",
    "    i=1\n",
    "    print('Request: {}, Number of accounts followed: {}'.format(i, len(following)))\n",
    "    while True:\n",
    "        link = results.headers['link']\n",
    "        if not 'next' in link:\n",
    "            break\n",
    "        next_url = link.split('<')[1].split('>')[0]\n",
    "        results = client.get(next_url)\n",
    "        following.extend(parse(results))\n",
    "        i+=1\n",
    "        print('Request: {}, Number of accounts followed: {}'.format(i, len(following)))\n",
    "    return following\n",
    "\n",
    "def search_hashtag(hashtag):\n",
    "    results = client.get(\"https://sciences.social/api/v1/timelines/tag/{}?limit=100\".format(hashtag))\n",
    "    statuses = parse(results)\n",
    "    i=1\n",
    "    print('Request: {}, Number of toots: {}'.format(i, len(statuses)))\n",
    "    while True:\n",
    "        link = results.headers['link']\n",
    "        if not 'next' in link:\n",
    "            break\n",
    "        next_url = link.split('<')[1].split('>')[0]\n",
    "        results = client.get(next_url)\n",
    "        statuses.extend(parse(results))\n",
    "        i+=1\n",
    "        print('Request: {}, Number of toots: {}'.format(i, len(statuses)))\n",
    "        if i > 50:\n",
    "            break\n",
    "    return statuses\n",
    "\n",
    "def get_top_100_trending_hashtags(server):\n",
    "    results = client.get(\"https://sciences.social/api/v1/timelines/tag/{}?limit=100\".format(hashtag))"
   ]
  },
  {
   "cell_type": "code",
   "execution_count": null,
   "id": "2fe14d68",
   "metadata": {
    "scrolled": true
   },
   "outputs": [],
   "source": [
    "toots = get_toots_of_user('@cfiesler@hci.social')"
   ]
  },
  {
   "cell_type": "code",
   "execution_count": null,
   "id": "4568ab6c",
   "metadata": {
    "scrolled": true
   },
   "outputs": [],
   "source": [
    "username = '@cfiesler@hci.social'\n",
    "server = 'hci.social'\n",
    "followers = get_followers_of_user(server, username)\n",
    "len(followers)"
   ]
  },
  {
   "cell_type": "code",
   "execution_count": null,
   "id": "01c6a3a7",
   "metadata": {},
   "outputs": [],
   "source": [
    "df_followers = pd.DataFrame(followers)\n",
    "df_followers.username.nunique()"
   ]
  },
  {
   "cell_type": "code",
   "execution_count": null,
   "id": "00f8a4cb",
   "metadata": {},
   "outputs": [],
   "source": [
    "df_following = pd.DataFrame(get_accounts_followed_by_user(server, username))\n",
    "df_following"
   ]
  },
  {
   "cell_type": "code",
   "execution_count": 7,
   "id": "8691b2a0",
   "metadata": {},
   "outputs": [
    {
     "data": {
      "text/plain": [
       "1683211138279"
      ]
     },
     "execution_count": 7,
     "metadata": {},
     "output_type": "execute_result"
    }
   ],
   "source": [
    "bit_shifted = 110310925158294068 >> 16\n",
    "bit_shifted"
   ]
  },
  {
   "cell_type": "code",
   "execution_count": 8,
   "id": "5e3be351",
   "metadata": {},
   "outputs": [
    {
     "data": {
      "text/plain": [
       "datetime.datetime(2023, 5, 4, 17, 38, 58, 279000)"
      ]
     },
     "execution_count": 8,
     "metadata": {},
     "output_type": "execute_result"
    }
   ],
   "source": [
    "datetime.fromtimestamp(1683211138279/1000)\n",
    "# datetime.datetime(2022, 11, 11, 18, 16, 4, 630000)"
   ]
  },
  {
   "cell_type": "code",
   "execution_count": 10,
   "id": "5a1563d6",
   "metadata": {},
   "outputs": [],
   "source": [
    "end_date = datetime(2020,1,1)"
   ]
  },
  {
   "cell_type": "code",
   "execution_count": 11,
   "id": "6b9a0c54",
   "metadata": {},
   "outputs": [
    {
     "data": {
      "text/plain": [
       "103404640665600000"
      ]
     },
     "execution_count": 11,
     "metadata": {},
     "output_type": "execute_result"
    }
   ],
   "source": [
    "(int( end_date.timestamp()) << 16)*1000"
   ]
  },
  {
   "cell_type": "code",
   "execution_count": null,
   "id": "1e538a83",
   "metadata": {},
   "outputs": [],
   "source": [
    "result = parse(client.get(\"https://sciences.social/api/v1/accounts/109334421628967389\"))\n",
    "result[\"username\"]"
   ]
  },
  {
   "cell_type": "code",
   "execution_count": null,
   "id": "5594654a",
   "metadata": {},
   "outputs": [],
   "source": [
    "statuses = search_hashtag('democrats')"
   ]
  },
  {
   "cell_type": "code",
   "execution_count": null,
   "id": "57f49609",
   "metadata": {},
   "outputs": [],
   "source": [
    "len(statuses)"
   ]
  },
  {
   "cell_type": "code",
   "execution_count": null,
   "id": "a1fb0c72",
   "metadata": {},
   "outputs": [],
   "source": [
    "df_statuses = pd.DataFrame(statuses)\n",
    "df_statuses.columns"
   ]
  },
  {
   "cell_type": "code",
   "execution_count": null,
   "id": "0e85d3f0",
   "metadata": {},
   "outputs": [],
   "source": []
  }
 ],
 "metadata": {
  "kernelspec": {
   "display_name": "Python 3 (ipykernel)",
   "language": "python",
   "name": "python3"
  },
  "language_info": {
   "codemirror_mode": {
    "name": "ipython",
    "version": 3
   },
   "file_extension": ".py",
   "mimetype": "text/x-python",
   "name": "python",
   "nbconvert_exporter": "python",
   "pygments_lexer": "ipython3",
   "version": "3.8.10"
  }
 },
 "nbformat": 4,
 "nbformat_minor": 5
}
