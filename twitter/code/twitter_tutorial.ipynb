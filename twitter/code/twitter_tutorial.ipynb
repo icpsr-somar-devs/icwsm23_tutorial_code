{
 "cells": [
  {
   "cell_type": "markdown",
   "id": "7962a3c5",
   "metadata": {},
   "source": [
    "# Tutorial Outline\n",
    "\n",
    "### Twitter Data Collection with twarc2"
   ]
  },
  {
   "cell_type": "markdown",
   "id": "334166cc",
   "metadata": {},
   "source": [
    "#### What you'll need? \n",
    "1. Twitter API credentials (at least the Bearer token)\n",
    "2. Academic API credentials (only for full archive access)"
   ]
  },
  {
   "cell_type": "markdown",
   "id": "0c5bef56",
   "metadata": {},
   "source": [
    "#### Setp 1: Setting up twarc: https://twarc-project.readthedocs.io/en/latest/twarc2_en_us/#configure"
   ]
  },
  {
   "cell_type": "code",
   "execution_count": 1,
   "id": "d54893e3",
   "metadata": {},
   "outputs": [],
   "source": [
    "import os\n",
    "import pandas as pd"
   ]
  },
  {
   "cell_type": "markdown",
   "id": "f5a700d6",
   "metadata": {},
   "source": [
    "#### Step 2: Define functions to use twarc2 with custom parameters for tweet, user, and search queries"
   ]
  },
  {
   "cell_type": "code",
   "execution_count": 37,
   "id": "4e757778",
   "metadata": {},
   "outputs": [],
   "source": [
    "def search(par_directory, query, counts=True, archive=True):\n",
    "    start_date = '2023-01-01'\n",
    "    end_date = '2023-06-01'\n",
    "    out_file = par_directory + query + '.jsonl'\n",
    "    print(query)\n",
    "    !twarc2 search --user-fields \"created_at,description,id,location,protected,public_metrics,url,username,verified\" {query} {out_file}\n",
    "\n",
    "def get_tweets(par_directory, screen_name, counts=True):\n",
    "    start_date = '2022-01-01'\n",
    "    end_date = '2023-06-01'\n",
    "    out_file = par_directory + screen_name + '.jsonl'\n",
    "#     Your CODE here: add the correct query\n",
    "#     For how to format queries, refer to: https://developer.twitter.com/en/docs/twitter-api/tweets/search/introduction\n",
    "    query = ''\n",
    "    \n",
    "    print(query)\n",
    "    if counts:\n",
    "        out_file = '../counts/{}_counts.jsonl'.format(screen_name)\n",
    "#         Use twarc to to collect tweets of the screen_name from\n",
    "#         Your CODE here\n",
    "        raise NotImplementedError\n",
    "    else:\n",
    "        raise NotImplementedError\n",
    "#         Your CODE here\n",
    "    \n",
    "def get_tweets_from_userid(par_directory, user_id):\n",
    "    start_date = '2022-01-01'\n",
    "    end_date = '2022-11-10'\n",
    "    out_file = par_directory + user_id + '.jsonl'\n",
    "    query = ''\n",
    "#     print(query)\n",
    "#     Your CODE here: Use twarc to get tweets of user_id between start_date and end_date\n",
    "    \n",
    "def get_tweets_that_mention_user(par_directory, screen_name, counts=True):\n",
    "    start_date = '2023-02-21'\n",
    "    end_date = '2023-02-28'\n",
    "    out_file = par_directory + screen_name + '.jsonl'\n",
    "    \n",
    "    query = ''# Your code here. Query should only include mentions of user by other users. Tweets by\n",
    "#     the user must be excluded\n",
    "    if counts:\n",
    "        out_file = '../counts/{}_counts.jsonl'.format(screen_name)\n",
    "#         Your CODE here: Use twarc2 to collect counts of mentions of <screen_name> between specified dates\n",
    "    else:\n",
    "        pass\n",
    "#         Your CODE here: Use twarc2 to collect all tweets that mention <screen_name>\n",
    "\n",
    "def get_conversation(par_directory, screen_name, conversation_id):\n",
    "    out_dir = par_directory + screen_name + '/'\n",
    "    if not screen_name in os.listdir(par_directory):\n",
    "        os.mkdir(out_dir)\n",
    "    out_file = out_dir + conversation_id + '.jsonl'\n",
    "    if conversation_id + '.jsonl' in os.listdir(out_dir):\n",
    "        return\n",
    "    !twarc2 conversation --archive {conversation_id} {out_file}    \n",
    "    \n",
    "    \n",
    "def get_friends_of_user(par_directory, screen_name):\n",
    "    out_file = par_directory + screen_name + '.jsonl'\n",
    "#     Your CODE here: get all friends of <screen_name>\n",
    "\n",
    "def get_followers_of_user(par_directory, screen_name):\n",
    "    out_file = par_directory + screen_name + '.jsonl'\n",
    "#     Your CODE here: get all followers of screen_name\n",
    "    \n",
    "def hydrate_tweets(par_directory, tweet_ids):\n",
    "    temp_file_path = '../data/temp.txt'\n",
    "#     Your CODE here\n",
    "#     Create a temporary file to store all tweet_ids, each line must have one tweet_id\n",
    "    out_dir = '../results/hydrated_tweets.jsonl'\n",
    "#     Your CODE here: Use twarc2 to retrieve all tweets matching the tweet_ids\n",
    "    \n",
    "# helper function to extract tweets from output files of twarc2\n",
    "def extract_tweets(df):\n",
    "    L = df.data.tolist()\n",
    "    tweets = []\n",
    "    for l in L:\n",
    "        tweets.extend(l)\n",
    "    return pd.DataFrame(tweets)"
   ]
  },
  {
   "cell_type": "markdown",
   "id": "1b06adc0",
   "metadata": {},
   "source": [
    "Get tweets posted by the account 'RahulGandhi'"
   ]
  },
  {
   "cell_type": "code",
   "execution_count": 34,
   "id": "8462d97b",
   "metadata": {},
   "outputs": [
    {
     "name": "stdout",
     "output_type": "stream",
     "text": [
      "\n"
     ]
    },
    {
     "ename": "NotImplementedError",
     "evalue": "",
     "output_type": "error",
     "traceback": [
      "\u001b[0;31m---------------------------------------------------------------------------\u001b[0m",
      "\u001b[0;31mNotImplementedError\u001b[0m                       Traceback (most recent call last)",
      "Input \u001b[0;32mIn [34]\u001b[0m, in \u001b[0;36m<module>\u001b[0;34m\u001b[0m\n\u001b[1;32m      2\u001b[0m \u001b[38;5;28;01mif\u001b[39;00m \u001b[38;5;129;01mnot\u001b[39;00m \u001b[38;5;124m'\u001b[39m\u001b[38;5;124mcounts\u001b[39m\u001b[38;5;124m'\u001b[39m \u001b[38;5;129;01min\u001b[39;00m os\u001b[38;5;241m.\u001b[39mlistdir(\u001b[38;5;124m'\u001b[39m\u001b[38;5;124m../\u001b[39m\u001b[38;5;124m'\u001b[39m):\n\u001b[1;32m      3\u001b[0m     os\u001b[38;5;241m.\u001b[39mmkdir(par_dir)\n\u001b[0;32m----> 4\u001b[0m \u001b[43mget_tweets\u001b[49m\u001b[43m(\u001b[49m\u001b[43mpar_dir\u001b[49m\u001b[43m,\u001b[49m\u001b[43m \u001b[49m\u001b[38;5;124;43m'\u001b[39;49m\u001b[38;5;124;43mRahulGandhi\u001b[39;49m\u001b[38;5;124;43m'\u001b[39;49m\u001b[43m)\u001b[49m\n",
      "Input \u001b[0;32mIn [33]\u001b[0m, in \u001b[0;36mget_tweets\u001b[0;34m(par_directory, screen_name, counts)\u001b[0m\n\u001b[1;32m     18\u001b[0m         out_file \u001b[38;5;241m=\u001b[39m \u001b[38;5;124m'\u001b[39m\u001b[38;5;124m../counts/\u001b[39m\u001b[38;5;132;01m{}\u001b[39;00m\u001b[38;5;124m_counts.jsonl\u001b[39m\u001b[38;5;124m'\u001b[39m\u001b[38;5;241m.\u001b[39mformat(screen_name)\n\u001b[1;32m     19\u001b[0m \u001b[38;5;66;03m#         Use twarc to to collect tweets of the screen_name from\u001b[39;00m\n\u001b[1;32m     20\u001b[0m \u001b[38;5;66;03m#         Your CODE here\u001b[39;00m\n\u001b[0;32m---> 21\u001b[0m         \u001b[38;5;28;01mraise\u001b[39;00m \u001b[38;5;167;01mNotImplementedError\u001b[39;00m\n\u001b[1;32m     22\u001b[0m     \u001b[38;5;28;01melse\u001b[39;00m:\n\u001b[1;32m     23\u001b[0m         \u001b[38;5;28;01mraise\u001b[39;00m \u001b[38;5;167;01mNotImplementedError\u001b[39;00m\n",
      "\u001b[0;31mNotImplementedError\u001b[0m: "
     ]
    }
   ],
   "source": [
    "par_dir = '../counts/'\n",
    "if not 'counts' in os.listdir('../'):\n",
    "    os.mkdir(par_dir)\n",
    "get_tweets(par_dir, 'RahulGandhi')"
   ]
  },
  {
   "cell_type": "code",
   "execution_count": null,
   "id": "b3584a89",
   "metadata": {
    "scrolled": true
   },
   "outputs": [],
   "source": []
  },
  {
   "cell_type": "code",
   "execution_count": 35,
   "id": "3f3813e9",
   "metadata": {},
   "outputs": [
    {
     "name": "stdout",
     "output_type": "stream",
     "text": [
      "\n"
     ]
    },
    {
     "ename": "NotImplementedError",
     "evalue": "",
     "output_type": "error",
     "traceback": [
      "\u001b[0;31m---------------------------------------------------------------------------\u001b[0m",
      "\u001b[0;31mNotImplementedError\u001b[0m                       Traceback (most recent call last)",
      "Input \u001b[0;32mIn [35]\u001b[0m, in \u001b[0;36m<module>\u001b[0;34m\u001b[0m\n\u001b[1;32m      1\u001b[0m par_dir \u001b[38;5;241m=\u001b[39m \u001b[38;5;124m'\u001b[39m\u001b[38;5;124m../results/\u001b[39m\u001b[38;5;124m'\u001b[39m\n\u001b[0;32m----> 2\u001b[0m \u001b[43mget_tweets\u001b[49m\u001b[43m(\u001b[49m\u001b[43mpar_dir\u001b[49m\u001b[43m,\u001b[49m\u001b[43m \u001b[49m\u001b[38;5;124;43m'\u001b[39;49m\u001b[38;5;124;43mJoeBiden\u001b[39;49m\u001b[38;5;124;43m'\u001b[39;49m\u001b[43m,\u001b[49m\u001b[43m \u001b[49m\u001b[43mcounts\u001b[49m\u001b[38;5;241;43m=\u001b[39;49m\u001b[38;5;28;43;01mFalse\u001b[39;49;00m\u001b[43m)\u001b[49m\n",
      "Input \u001b[0;32mIn [33]\u001b[0m, in \u001b[0;36mget_tweets\u001b[0;34m(par_directory, screen_name, counts)\u001b[0m\n\u001b[1;32m     21\u001b[0m     \u001b[38;5;28;01mraise\u001b[39;00m \u001b[38;5;167;01mNotImplementedError\u001b[39;00m\n\u001b[1;32m     22\u001b[0m \u001b[38;5;28;01melse\u001b[39;00m:\n\u001b[0;32m---> 23\u001b[0m     \u001b[38;5;28;01mraise\u001b[39;00m \u001b[38;5;167;01mNotImplementedError\u001b[39;00m\n",
      "\u001b[0;31mNotImplementedError\u001b[0m: "
     ]
    }
   ],
   "source": [
    "par_dir = '../results/'\n",
    "get_tweets(par_dir, 'JoeBiden', counts=False)"
   ]
  },
  {
   "cell_type": "code",
   "execution_count": 39,
   "id": "d2bda241",
   "metadata": {},
   "outputs": [
    {
     "name": "stdout",
     "output_type": "stream",
     "text": [
      "icwsm\n",
      "100%|█████████████████| Processed 6 days/6 days [00:02<00:00, 153 tweets total ]\n"
     ]
    }
   ],
   "source": [
    "search(par_dir, 'icwsm')"
   ]
  },
  {
   "cell_type": "code",
   "execution_count": 40,
   "id": "197dc034",
   "metadata": {},
   "outputs": [
    {
     "data": {
      "text/plain": [
       "['from:RahulGandhi.jsonl',\n",
       " 'hydrated_tweets.jsonl',\n",
       " 'icwsm.jsonl',\n",
       " 'JoeBiden.jsonl',\n",
       " 'RahulGandhi.jsonl',\n",
       " 'test.jsonl',\n",
       " 'test_likers.jsonl']"
      ]
     },
     "execution_count": 40,
     "metadata": {},
     "output_type": "execute_result"
    }
   ],
   "source": [
    "os.listdir(par_dir)"
   ]
  },
  {
   "cell_type": "code",
   "execution_count": 41,
   "id": "36f3fd68",
   "metadata": {},
   "outputs": [
    {
     "name": "stdout",
     "output_type": "stream",
     "text": [
      "\n"
     ]
    },
    {
     "ename": "NotImplementedError",
     "evalue": "",
     "output_type": "error",
     "traceback": [
      "\u001b[0;31m---------------------------------------------------------------------------\u001b[0m",
      "\u001b[0;31mNotImplementedError\u001b[0m                       Traceback (most recent call last)",
      "Input \u001b[0;32mIn [41]\u001b[0m, in \u001b[0;36m<module>\u001b[0;34m\u001b[0m\n\u001b[0;32m----> 1\u001b[0m \u001b[43mget_tweets\u001b[49m\u001b[43m(\u001b[49m\u001b[43mpar_dir\u001b[49m\u001b[43m,\u001b[49m\u001b[43m \u001b[49m\u001b[38;5;124;43m'\u001b[39;49m\u001b[38;5;124;43mRahulGandhi\u001b[39;49m\u001b[38;5;124;43m'\u001b[39;49m\u001b[43m,\u001b[49m\u001b[43m \u001b[49m\u001b[43mcounts\u001b[49m\u001b[38;5;241;43m=\u001b[39;49m\u001b[38;5;28;43;01mFalse\u001b[39;49;00m\u001b[43m)\u001b[49m\n",
      "Input \u001b[0;32mIn [37]\u001b[0m, in \u001b[0;36mget_tweets\u001b[0;34m(par_directory, screen_name, counts)\u001b[0m\n\u001b[1;32m     21\u001b[0m     \u001b[38;5;28;01mraise\u001b[39;00m \u001b[38;5;167;01mNotImplementedError\u001b[39;00m\n\u001b[1;32m     22\u001b[0m \u001b[38;5;28;01melse\u001b[39;00m:\n\u001b[0;32m---> 23\u001b[0m     \u001b[38;5;28;01mraise\u001b[39;00m \u001b[38;5;167;01mNotImplementedError\u001b[39;00m\n",
      "\u001b[0;31mNotImplementedError\u001b[0m: "
     ]
    }
   ],
   "source": [
    "get_tweets(par_dir, 'RahulGandhi', counts=False)"
   ]
  },
  {
   "cell_type": "markdown",
   "id": "78a3ad18",
   "metadata": {},
   "source": [
    "### Web-scraping with Twitter"
   ]
  },
  {
   "cell_type": "code",
   "execution_count": null,
   "id": "665d6db2",
   "metadata": {},
   "outputs": [],
   "source": []
  },
  {
   "cell_type": "code",
   "execution_count": 1,
   "id": "443ded79",
   "metadata": {},
   "outputs": [],
   "source": [
    "import requests\n",
    "from bs4 import BeautifulSoup\n",
    "from datetime import datetime, timedelta\n",
    "from selenium.webdriver import Firefox\n",
    "from selenium.webdriver.firefox.options import Options\n",
    "from selenium.webdriver.common.by import By\n",
    "opts = Options()\n",
    "opts.headless = True\n",
    "import time\n",
    "assert opts.headless  # Operating in headless mode\n",
    "\n",
    "from selenium.webdriver.support.ui import WebDriverWait\n",
    "from selenium.webdriver.common.by import By\n",
    "from selenium.webdriver.support import expected_conditions as EC"
   ]
  },
  {
   "cell_type": "code",
   "execution_count": null,
   "id": "1e009288",
   "metadata": {},
   "outputs": [],
   "source": []
  },
  {
   "cell_type": "code",
   "execution_count": 2,
   "id": "35fa5f0e",
   "metadata": {},
   "outputs": [],
   "source": [
    "browser = Firefox(options=opts)\n",
    "browser.maximize_window()\n",
    "browser.implicitly_wait(30)\n",
    "# wait = WebDriverWait(browser, 50)\n",
    "URL = \"https://twitter.com/JoeBiden/\""
   ]
  },
  {
   "cell_type": "code",
   "execution_count": 3,
   "id": "c389069e",
   "metadata": {},
   "outputs": [
    {
     "name": "stdout",
     "output_type": "stream",
     "text": [
      "Joe Biden@JoeBiden·12hNo one earning less than $400,000 a year will pay a penny more in federal taxes.13.2K4,11025.3K3.2M\n",
      "Joe Biden@JoeBiden·19hYesterday, I signed our bipartisan budget agreement into law:\n",
      "—Preventing a default that could have caused an economic crisis and cost millions of jobs\n",
      "—Protecting Social Security, Medicare & Medicaid, veterans’ benefits and historic investments in infrastructure and clean energyThe media could not be played.Reload1,5671,4268,3801.2M\n"
     ]
    }
   ],
   "source": [
    "browser.get(URL)\n",
    "# browser.execute_script(\"window.scrollTo(0, 100);\")\n",
    "all_items = browser.find_elements(By.CSS_SELECTOR,'[data-testid=\\\"tweet\\\"]')\n",
    "for t in all_items:\n",
    "    time.sleep(2)\n",
    "    print(t.get_attribute('textContent'))"
   ]
  },
  {
   "cell_type": "code",
   "execution_count": 4,
   "id": "8a971381",
   "metadata": {},
   "outputs": [
    {
     "data": {
      "text/plain": [
       "[<selenium.webdriver.remote.webelement.WebElement (session=\"910fd260-c5cf-4a3f-b204-8887127f929a\", element=\"61d1c2f9-83a9-4626-88c3-d8b6f1958058\")>,\n",
       " <selenium.webdriver.remote.webelement.WebElement (session=\"910fd260-c5cf-4a3f-b204-8887127f929a\", element=\"fa32862a-5236-4b12-9225-7097c0080fce\")>]"
      ]
     },
     "execution_count": 4,
     "metadata": {},
     "output_type": "execute_result"
    }
   ],
   "source": [
    "all_items"
   ]
  },
  {
   "cell_type": "code",
   "execution_count": null,
   "id": "30b79b84",
   "metadata": {},
   "outputs": [
    {
     "name": "stdout",
     "output_type": "stream",
     "text": [
      "5\n",
      "1 5\n",
      "7\n",
      "2 9\n",
      "9\n",
      "3 15\n",
      "9\n",
      "4 21\n",
      "9\n",
      "5 26\n",
      "9\n",
      "6 31\n",
      "8\n",
      "7 36\n",
      "7\n"
     ]
    }
   ],
   "source": [
    "browser = Firefox(options=opts)\n",
    "browser.maximize_window()\n",
    "SCROLL_PAUSE_TIME = 15\n",
    "browser.implicitly_wait(30)\n",
    "# wait = WebDriverWait(browser, 50)\n",
    "URL = \"https://twitter.com/JoeBiden/\"\n",
    "browser.get(URL)\n",
    "tweet_text = []\n",
    "i=0\n",
    "while True:\n",
    "    results = browser.find_elements(By.CSS_SELECTOR,'[data-testid=\\\"tweet\\\"]')\n",
    "#     new_height = browser.execute_script(\"return document.body.scrollHeight\")\n",
    "    print(len(results))\n",
    "    i+=1\n",
    "    for r in results:\n",
    "    #     total_height += r.size['height']\n",
    "    #     print(r.size)\n",
    "        time.sleep(3)\n",
    "        try:\n",
    "            tweet = r.get_attribute('textContent')\n",
    "            tweet_text.append(tweet)\n",
    "            location = r.location\n",
    "            size = r.size\n",
    "#             w, h = size['width'], size['height']\n",
    "#             print(location)\n",
    "#             print(size)\n",
    "        except Exception as e:\n",
    "            time.sleep(SCROLL_PAUSE_TIME)\n",
    "            print(e)\n",
    "    next_scroll_height = location['y'] + size['height']\n",
    "    browser.execute_script(\"window.scrollTo(0, {});\".format(next_scroll_height))\n",
    "    tweet_text = list(set(tweet_text))\n",
    "    print(i, len(tweet_text))\n",
    "    if i>10:\n",
    "        break"
   ]
  },
  {
   "cell_type": "code",
   "execution_count": null,
   "id": "c7e010f4",
   "metadata": {},
   "outputs": [],
   "source": []
  }
 ],
 "metadata": {
  "kernelspec": {
   "display_name": "Python 3 (ipykernel)",
   "language": "python",
   "name": "python3"
  },
  "language_info": {
   "codemirror_mode": {
    "name": "ipython",
    "version": 3
   },
   "file_extension": ".py",
   "mimetype": "text/x-python",
   "name": "python",
   "nbconvert_exporter": "python",
   "pygments_lexer": "ipython3",
   "version": "3.8.10"
  }
 },
 "nbformat": 4,
 "nbformat_minor": 5
}
